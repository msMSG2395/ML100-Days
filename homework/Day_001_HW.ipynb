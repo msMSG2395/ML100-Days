{
 "cells": [
  {
   "cell_type": "markdown",
   "metadata": {},
   "source": [
    "## 作業1：\n",
    "\n",
    "### 請上 Kaggle, 在 Competitions 或 Dataset 中找一組競賽或資料並寫下：\n",
    "\n",
    "\n",
    "\n",
    "1. 你選的這組資料為何重要\n",
    "\n",
    "2. 資料從何而來 (tips: 譬如提供者是誰、以什麼方式蒐集)\n",
    "\n",
    "3. 蒐集而來的資料型態為何\n",
    "\n",
    "4. 這組資料想解決的問題如何評估"
   ]
  },
  {
   "cell_type": "markdown",
   "metadata": {},
   "source": [
    "# 作業1答提：\n",
    "##Digit Recognizer\n",
    "URL:https://www.kaggle.com/c/digit-recognizer\n",
    "### 1.你選的這組資料為何重要\n",
    "一個經典的簡單問題，是學習入門的教案之一\n",
    "### 2.資料從何而來 (tips: 譬如提供者是誰、以什麼方式蒐集)\n",
    "資料由 http://yann.lecun.com/exdb/mnist/index.html 網頁取得\n",
    "The digit images in the MNIST set were originally selected and experimented with by Chris Burges and Corinna Cortes using bounding-box normalization and centering. Yann LeCun's version which is provided on this page uses centering by center of mass within in a larger window.\n",
    "\n",
    "Yann LeCun, Professor\n",
    "The Courant Institute of Mathematical Sciences\n",
    "New York University\n",
    "\n",
    "\n",
    "Corinna Cortes, Research Scientist\n",
    "Google Labs, New York\n",
    "corinna at google dot com\n",
    "### 3.蒐集而來的資料型態為何\n",
    "FILE FORMATS FOR THE MNIST DATABASE\n",
    "The data is stored in a very simple file format designed for storing vectors and multidimensional matrices. General info on this format is given at the end of this page, but you don't need to read that to use the data files.\n",
    "All the integers in the files are stored in the MSB first (high endian) format used by most non-Intel processors. Users of Intel processors and other low-endian machines must flip the bytes of the header.\n",
    "\n",
    "There are 4 files:\n",
    "\n",
    "train-images-idx3-ubyte: training set images \n",
    "train-labels-idx1-ubyte: training set labels \n",
    "t10k-images-idx3-ubyte:  test set images \n",
    "t10k-labels-idx1-ubyte:  test set labels\n",
    "\n",
    "The training set contains 60000 examples, and the test set 10000 examples.\n",
    "\n",
    "The first 5000 examples of the test set are taken from the original NIST training set. The last 5000 are taken from the original NIST test set. The first 5000 are cleaner and easier than the last 5000.\n",
    "### 4.這組資料想解決的問題如何評估\n",
    "kaggle會根據預測的分類準確性進行評估"
   ]
  },
  {
   "cell_type": "markdown",
   "metadata": {},
   "source": [
    "## 作業2：\n",
    "\n",
    "### 想像你經營一個自由載客車隊，你希望能透過數據分析以提升業績，請你思考並描述你如何規劃整體的分析/解決方案：\n",
    "\n",
    "\n",
    "\n",
    "1. 核心問題為何 (tips：如何定義 「提升業績 & 你的假設」)\n",
    "\n",
    "2. 資料從何而來 (tips：哪些資料可能會對你想問的問題產生影響 & 資料如何蒐集)\n",
    "\n",
    "3. 蒐集而來的資料型態為何\n",
    "\n",
    "4. 你要回答的問題，其如何評估 (tips：你的假設如何驗證)"
   ]
  },
  {
   "cell_type": "markdown",
   "metadata": {},
   "source": [
    "# 作業2答提：\n",
    "### 1.核心問題為何 (tips：如何定義 「提升業績 & 你的假設」)\n",
    "提升業績:在相同的車輛、營業時間內獲取的金額提高，載客率、里程提高、空車等待時間縮短、每次搭乘的乘客數量少，增加收入。\n",
    "假設：\n",
    "1.油價、物價等不變動\n",
    "\n",
    "2.不考慮上下坡增加減少油耗、煞車皮磨損等增加維修保養費用\n",
    "\n",
    "3.相同的距離(不需要相同的路線)因塞車增加的時間不考慮，因為等待時間也是有計費收入\n",
    "\n",
    "4.每次載客的收入是獲利，總里程與收入成正比、。\n",
    "\n",
    "5.密集的上車地點會減少空車等候的時間\n",
    "\n",
    "6.不考慮因為促銷變動影響(包含其他車隊的促銷活動)\n",
    "### 2.資料從何而來 (tips：哪些資料可能會對你想問的問題產生影響 & 資料如何蒐集)\n",
    "根據運營狀況由車輛駕駛提供數據\n",
    "### 3.蒐集而來的資料型態為何\n",
    "結構化數據：\n",
    "id - 每次唯一標識符\n",
    "driver_id - 提供者ID\n",
    "start_datetime - 開始日期時間\n",
    "end_datetime - 結束日期時間\n",
    "passenger_count - 車輛中的乘客數量\n",
    "start_gps - 開始gps座標\n",
    "end_gps - 結束gps座標\n",
    "ShopTeam_Orders - 是否為車隊接單(1:車隊接單，0:自行接單，包含路邊叫車)\n",
    "ShopTeam_flags - 車隊接單是否成功(若為車隊接單，有沒有依照接單接到客戶，1:有，0:無)\n",
    "fare - 收入車資\n",
    "### 4.你要回答的問題，其如何評估 (tips：你的假設如何驗證)\n",
    "1.比較項目為收入(fare)\n",
    "\n",
    "2.按每月、每周幾做環比與上期比較，例如周一與上周一比，本月與上月比，若為節假日則另外比較\n"
   ]
  },
  {
   "cell_type": "markdown",
   "metadata": {},
   "source": [
    "## 練習時間\n",
    "#### 請寫一個函式用來計算 Mean Square Error\n",
    "$ MSE = \\frac{1}{n}\\sum_{i=1}^{n}{(Y_i - \\hat{Y}_i)^2} $\n",
    "\n",
    "### Hint: [如何取平方](https://googoodesign.gitbooks.io/-ezpython/unit-1.html)"
   ]
  },
  {
   "cell_type": "code",
   "execution_count": 1,
   "metadata": {},
   "outputs": [],
   "source": [
    "import numpy as np\n",
    "import matplotlib.pyplot as plt"
   ]
  },
  {
   "cell_type": "code",
   "execution_count": 2,
   "metadata": {},
   "outputs": [],
   "source": [
    "def mean_squared_error(y, yp):\n",
    "    \"\"\"\n",
    "    均方差(平均誤差、均方誤差)\n",
    "    Args:\n",
    "        - y: 實際值\n",
    "        - yp: 預測值\n",
    "    Return:\n",
    "        - mse: mean squared error\n",
    "    \"\"\"\n",
    "    mse = sum((y - yp)**2) / len(y)\n",
    "    return mse\n",
    "\n",
    "def mean_absolute_error(y, yp):\n",
    "    \"\"\"\n",
    "    平均絕對誤差\n",
    "    Args:\n",
    "        - y: 實際值\n",
    "        - yp: 預測值\n",
    "    Return:\n",
    "        - mae: mean absolute error\n",
    "    \"\"\"\n",
    "    mae = sum(abs(y - yp)) / len(y)\n",
    "    return mae"
   ]
  },
  {
   "cell_type": "code",
   "execution_count": 3,
   "metadata": {},
   "outputs": [
    {
     "data": {
      "image/png": "[encoded data removed]",
      "text/plain": [
       "<Figure size 432x288 with 1 Axes>"
      ]
     },
     "metadata": {
      "needs_background": "light"
     },
     "output_type": "display_data"
    }
   ],
   "source": [
    "w = 3\n",
    "b = 0.5\n",
    "\n",
    "x_lin = np.linspace(0, 100, 101)\n",
    "\n",
    "y = (x_lin + np.random.randn(101) * 5) * w + b\n",
    "\n",
    "plt.plot(x_lin, y, 'b.', label = 'data points')\n",
    "plt.title(\"Assume we have data points\")\n",
    "plt.legend(loc = 2)\n",
    "plt.show()"
   ]
  },
  {
   "cell_type": "code",
   "execution_count": 4,
   "metadata": {},
   "outputs": [
    {
     "data": {
      "image/png": "[encoded data removed]",
      "text/plain": [
       "<Figure size 432x288 with 1 Axes>"
      ]
     },
     "metadata": {
      "needs_background": "light"
     },
     "output_type": "display_data"
    }
   ],
   "source": [
    "y_hat = x_lin * w + b\n",
    "plt.plot(x_lin, y, 'b.', label = 'data')\n",
    "plt.plot(x_lin, y_hat, 'r-', label = 'prediction')\n",
    "plt.title(\"Assume we have data points (And the prediction)\")\n",
    "plt.legend(loc = 2)\n",
    "plt.show()"
   ]
  },
  {
   "cell_type": "code",
   "execution_count": 5,
   "metadata": {},
   "outputs": [
    {
     "name": "stdout",
     "output_type": "stream",
     "text": [
      "The Mean squared error is 217.636\n",
      "The Mean absolute error is 11.765\n"
     ]
    }
   ],
   "source": [
    "# 執行 Function, 確認有沒有正常執行\n",
    "MSE = mean_squared_error(y, y_hat)\n",
    "MAE = mean_absolute_error(y, y_hat)\n",
    "print(\"The Mean squared error is %.3f\" % (MSE))\n",
    "print(\"The Mean absolute error is %.3f\" % (MAE))"
   ]
  },
  {
   "cell_type": "code",
   "execution_count": null,
   "metadata": {},
   "outputs": [],
   "source": []
  }
 ],
 "metadata": {
  "anaconda-cloud": {},
  "kernelspec": {
   "display_name": "Python 3",
   "language": "python",
   "name": "python3"
  },
  "language_info": {
   "codemirror_mode": {
    "name": "ipython",
    "version": 3
   },
   "file_extension": ".py",
   "mimetype": "text/x-python",
   "name": "python",
   "nbconvert_exporter": "python",
   "pygments_lexer": "ipython3",
   "version": "3.7.0"
  }
 },
 "nbformat": 4,
 "nbformat_minor": 1
}
